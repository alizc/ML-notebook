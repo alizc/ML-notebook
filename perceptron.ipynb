{
 "cells": [
  {
   "cell_type": "code",
   "execution_count": 28,
   "id": "f92363cd",
   "metadata": {},
   "outputs": [],
   "source": [
    "import numpy as np \n",
    "from sklearn.metrics import accuracy_score, precision_score, recall_score, f1_score, confusion_matrix, classification_report\n",
    "import matplotlib.pyplot as plt \n",
    "import seaborn as sns "
   ]
  },
  {
   "cell_type": "code",
   "execution_count": 22,
   "id": "cc78c843",
   "metadata": {},
   "outputs": [],
   "source": [
    "# This class implements a linear classifier with a common prediction function for linear clfs \n",
    "class LinearClassifier: \n",
    "    def __init__(self): \n",
    "        self.weights = None\n",
    "        self.positive_class = None\n",
    "        self.negative_class = None\n",
    "        # Initialize the fitted state to False\n",
    "        self.is_fitted_ = False\n",
    "        \n",
    "    def find_classes(self, Y): \n",
    "        \"\"\"\n",
    "        Finds the set of output classes in the output part Y of the training set.\n",
    "        If there are exactly two classes, one of them is associated to positive\n",
    "        classifier scores, the other one to negative scores. If the number of classes\n",
    "        is not 2, an error is raised since it is a linear classfier it can only handle 2 classes\n",
    "        \"\"\"\n",
    "        classes = sorted(set(Y))\n",
    "        if len(classes) != 2:\n",
    "            raise Exception(\"Must be a 2-class problem!\")\n",
    "        self.positive_class = classes[0]\n",
    "        self.negative_class = classes[1]\n",
    "    \n",
    "    def predict(self, X):\n",
    "        \"\"\"\n",
    "        Predicts the class of the input data X.\n",
    "        Assumes that X is a NumPy matrix where each row contains the features for one instance.\n",
    "        \"\"\"\n",
    "        # Compute scores as the dot product of X and the weights\n",
    "        scores = np.dot(X, self.weights)\n",
    "        # Return the class based on the score\n",
    "        choices_array = np.array([self.negative_class, self.positive_class], dtype=object)\n",
    "\n",
    "        predicted_class = np.select(\n",
    "            [scores < 0, scores >= 0],\n",
    "            choices_array,\n",
    "            default=self.negative_class \n",
    "        )\n",
    "        \n",
    "        return predicted_class"
   ]
  },
  {
   "cell_type": "code",
   "execution_count": 23,
   "id": "6548b350",
   "metadata": {},
   "outputs": [],
   "source": [
    "# Implementing the perceptron algorithm\n",
    "class Perceptron(LinearClassifier):\n",
    "    def __init__(self, n_epochs=10):\n",
    "        \"\"\"\n",
    "        Initializes the Perceptron with a specified number of epochs.\n",
    "        \"\"\"\n",
    "        super().__init__() \n",
    "        self.n_epochs = n_epochs\n",
    "         \n",
    "                    \n",
    "    def fit(self, X, Y):\n",
    "        \"\"\"\n",
    "        Trains the linear classifier using the Perceptron on training set (X,Y)\n",
    "        \"\"\"\n",
    "        # Determine which output classes will be positive and negative\n",
    "        self.find_classes(Y)\n",
    "\n",
    "        # Convert string labels to numerical for Perceptron:\n",
    "        # Perceptron updates typically use +1 for positive class and -1 for negative class.\n",
    "        Y_numeric = np.array([1 if y == self.positive_class else -1 for y in Y])\n",
    "\n",
    "        # Initialize weight vector to zero weights\n",
    "        self.weights = np.zeros(X.shape[1])\n",
    "\n",
    "        # Perform the training\n",
    "        for epoch in range(self.n_epochs):\n",
    "            errors = 0 # Count errors to check for convergence\n",
    "            # Iterate over all instances in the training set\n",
    "            for i in range(len(X)):\n",
    "                x = X[i]\n",
    "                y_true_numeric = Y_numeric[i] # Use numerical true label\n",
    "\n",
    "                # Compute the score\n",
    "                score = np.dot(x, self.weights)\n",
    "\n",
    "                # Prediction\n",
    "                if y_true_numeric * score <= 0: \n",
    "                    # Update weights\n",
    "                    self.weights += y_true_numeric * x \n",
    "                    errors += 1\n",
    "            if errors == 0: # If no errors in an epoch, it has converged\n",
    "                break\n",
    "            \n",
    "        self.is_fitted_ = True\n",
    "\n",
    "        "
   ]
  },
  {
   "cell_type": "code",
   "execution_count": 24,
   "id": "fe3e2b86",
   "metadata": {},
   "outputs": [
    {
     "name": "stdout",
     "output_type": "stream",
     "text": [
      "{'age': 39.0,\n",
      " 'capital-gain': 2174.0,\n",
      " 'capital-loss': 0.0,\n",
      " 'education': 'Bachelors',\n",
      " 'education-num': 13.0,\n",
      " 'fnlwgt': 77516.0,\n",
      " 'hours-per-week': 40.0,\n",
      " 'marital-status': 'Never-married',\n",
      " 'native-country': 'United-States',\n",
      " 'occupation': 'Adm-clerical',\n",
      " 'race': 'White',\n",
      " 'relationship': 'Not-in-family',\n",
      " 'sex': 'Male',\n",
      " 'workclass': 'State-gov'}\n",
      "---\n",
      "<=50K\n"
     ]
    }
   ],
   "source": [
    "# Test on the adult dataset \n",
    "\n",
    "def read_names(filename):\n",
    "    names = [] # Initialize an empty list to store column names\n",
    "    types = [] # Initialize an empty list to store column types \n",
    "    with open(filename) as f:\n",
    "        for l in f: # Iterate through each line (l) in the file\n",
    "            if l[0] == '|' or ':' not in l: \n",
    "                continue    # Skip lines that are comments or don't define an attribute\n",
    "            \n",
    "            cols = l.split(':')\n",
    "            names.append(cols[0])\n",
    "            \n",
    "            # Determine the data type based on the description after the colon\n",
    "            if cols[1].startswith(' continuous.'):\n",
    "                types.append(float)\n",
    "            else:\n",
    "                types.append(str)\n",
    "    return names, types\n",
    "\n",
    "col_names, col_types = read_names('data/adult.names')\n",
    "\n",
    "def read_data(filename, col_names, col_types):\n",
    "    X = []\n",
    "    Y = []\n",
    "    with open(filename) as f:\n",
    "        for l in f:\n",
    "            cols = l.strip('\\n.').split(', ')\n",
    "            if len(cols) < len(col_names):\n",
    "                continue\n",
    "            X.append( { n:t(c) for n, t, c in zip(col_names, col_types, cols) } )\n",
    "            Y.append(cols[-1])\n",
    "    return X, Y\n",
    "\n",
    "# read the training set\n",
    "Xtrain, Ytrain = read_data('data/adult.data', col_names, col_types)\n",
    "\n",
    "# read the test set\n",
    "Xtest, Ytest = read_data('data/adult.test', col_names, col_types)\n",
    "\n",
    "#Print the input and output for the first instance\n",
    "# input consists of a feature dictionary\n",
    "# output is a string either ' <=50K' or ' >50K'\n",
    "from pprint import pprint\n",
    "\n",
    "pprint(Xtrain[0])\n",
    "print(\"---\")\n",
    "print(Ytrain[0])"
   ]
  },
  {
   "cell_type": "code",
   "execution_count": 25,
   "id": "84aa567d",
   "metadata": {},
   "outputs": [],
   "source": [
    "# Create pipeline for training and testing the perceptron\n",
    "from sklearn.pipeline import make_pipeline\n",
    "from sklearn.feature_extraction import DictVectorizer\n",
    "from sklearn.metrics import accuracy_score\n",
    "from sklearn.preprocessing import StandardScaler"
   ]
  },
  {
   "cell_type": "code",
   "execution_count": 34,
   "id": "d962025a",
   "metadata": {},
   "outputs": [
    {
     "name": "stdout",
     "output_type": "stream",
     "text": [
      "Accuracy on test set:  0.7913956978489245\n",
      "\n",
      "Classification Report:\n",
      "              precision    recall  f1-score   support\n",
      "\n",
      "       <=50K       0.91      0.81      0.86      1518\n",
      "        >50K       0.55      0.73      0.63       481\n",
      "\n",
      "    accuracy                           0.79      1999\n",
      "   macro avg       0.73      0.77      0.74      1999\n",
      "weighted avg       0.82      0.79      0.80      1999\n",
      "\n"
     ]
    }
   ],
   "source": [
    "# Use one-hot encoding for categorical features\n",
    "# Use sparse = false since the perceptron assumes examples are stored in NumPy matrix\n",
    "dv = DictVectorizer(sparse=False)\n",
    "\n",
    "# Normalize the data with StandardScaler\n",
    "scaler = StandardScaler(with_mean=False)\n",
    "\n",
    "clf = Perceptron()\n",
    "\n",
    "pipeline = make_pipeline(dv, scaler, clf)   \n",
    "pipeline.fit(Xtrain, Ytrain)\n",
    "Yguess = pipeline.predict(Xtest)\n",
    "print(\"Accuracy on test set: \", accuracy_score(Ytest, Yguess))\n",
    "\n",
    "# Precision, Recall, F1-Score (often summarized by classification_report)\n",
    "class_labels = sorted(list(set(Ytest))) # Get unique sorted class labels\n",
    "\n",
    "print(\"\\nClassification Report:\")\n",
    "print(classification_report(Ytest, Yguess, target_names=class_labels))"
   ]
  },
  {
   "cell_type": "markdown",
   "id": "d59e4380",
   "metadata": {},
   "source": [
    "#### Negative class <=50K: \n",
    "\n",
    "##### Precision - Out of all the instances that the model predicted as <=50K, 91% were actually true \n",
    "##### Recall - Out of all the instances that actually were <=50K, 81% were identified by the model \n",
    "##### F1 (harmonic mean of precision and recall) - 0.86 is quite good  \n",
    "\n",
    "#### Positive class >50K:\n",
    "\n",
    "##### Precision - Out of all the instances that the model predicted as >50K, only 55% were actually true. Have a lot of false positives \n",
    "##### Recall - Out of all the instances that actually were >50K, 73% were identified by the model\n",
    "##### F1 - low score of 0.63 meaning that the model struggles more with the positive class due to lower precision  "
   ]
  },
  {
   "cell_type": "code",
   "execution_count": null,
   "id": "43222d82",
   "metadata": {},
   "outputs": [
    {
     "name": "stdout",
     "output_type": "stream",
     "text": [
      "\n",
      "Confusion Matrix:\n",
      "[[1230  288]\n",
      " [ 129  352]]\n"
     ]
    },
    {
     "data": {
      "image/png": "[encoded data removed]",
      "text/plain": [
       "<Figure size 600x500 with 2 Axes>"
      ]
     },
     "metadata": {},
     "output_type": "display_data"
    }
   ],
   "source": [
    "cm = confusion_matrix(Ytest, Yguess, labels=class_labels) \n",
    "\n",
    "print(\"\\nConfusion Matrix:\")\n",
    "print(cm)\n",
    "\n",
    "# Visualize the Confusion Matrix\n",
    "plt.figure(figsize=(6, 5))\n",
    "sns.heatmap(cm, annot=True, fmt='d', cmap='Blues',\n",
    "            xticklabels=class_labels, yticklabels=class_labels)\n",
    "plt.xlabel('Predicted Label')\n",
    "plt.ylabel('True Label')\n",
    "plt.title('Confusion Matrix')\n",
    "plt.show()"
   ]
  },
  {
   "cell_type": "markdown",
   "id": "72d87cba",
   "metadata": {},
   "source": [
    "#### Why low precision on positive class?\n",
    "\n",
    "\n",
    "##### 'Support' term for <=50K is 1518 and for >50K is 481. This is a clear imbalance. The negative class (<=50K) is roughly 3 times larger than the positive class (>50K). Addionally Perceptron (and many linear models) tend to be biased towards the majority class. Also note that the FP (top right) is almost as big as TP (bottom right). Adding class weighting to the fit method would be a good choice to tackle the class imbalance (to some extent)."
   ]
  }
 ],
 "metadata": {
  "kernelspec": {
   "display_name": "tfenv",
   "language": "python",
   "name": "python3"
  },
  "language_info": {
   "codemirror_mode": {
    "name": "ipython",
    "version": 3
   },
   "file_extension": ".py",
   "mimetype": "text/x-python",
   "name": "python",
   "nbconvert_exporter": "python",
   "pygments_lexer": "ipython3",
   "version": "3.10.18"
  }
 },
 "nbformat": 4,
 "nbformat_minor": 5
}
